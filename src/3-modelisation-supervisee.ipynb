{
 "cells": [
  {
   "cell_type": "markdown",
   "id": "d73605d8",
   "metadata": {},
   "source": [
    "# 3 - Modélisation supervisée\n",
    "\n",
    "Dans ce notebook, nous poursuivons l'analyse du dataset *Vinho Verde* débutée lors de l'exploration et la préparation des données. Après avoir nettoyé, normalisé et équilibré notre jeu de données, nous abordons ici la **modélisation supervisée**, dont l'objectif est de **prédire la qualité du vin** à partir de ses caractéristiques physico-chimiques.\n",
    "\n",
    "Nous mettrons en œuvre différentes approches d’apprentissage supervisé, à la fois **linéaires** (régression logistique, analyse discriminante) et **non linéaires** (arbres de décision, méthodes ensemblistes), en suivant rigoureusement les bonnes pratiques d’évaluation (validation croisée, métriques variées).\n",
    "\n",
    "## Sommaire\n",
    "\n",
    "1. Chargement des jeux de données préparés (normalisé et SMOTE)\n",
    "2. Rappel sur le problème de classification et la nature de la variable cible\n",
    "3. Séparation des données en ensembles d'entraînement et de test\n",
    "4. Modélisation avec plusieurs algorithmes supervisés\n",
    "5. Évaluation des performances (accuracy, f1-score, matrice de confusion…)\n",
    "6. Sélection du ou des meilleurs modèles\n",
    "7. Interprétation et visualisation des résultats"
   ]
  },
  {
   "cell_type": "code",
   "execution_count": 26,
   "id": "8765981a",
   "metadata": {},
   "outputs": [],
   "source": [
    "# imports\n",
    "import os\n",
    "import pandas as pd\n",
    "from pandas import DataFrame\n",
    "from typing import Tuple\n",
    "from pandas import Series\n",
    "from sklearn.model_selection import train_test_split\n",
    "from sklearn.base import ClassifierMixin\n",
    "from sklearn.model_selection import StratifiedKFold, cross_val_score\n",
    "from typing import Union, Literal\n",
    "import numpy as np\n",
    "import matplotlib.pyplot as plt\n",
    "import seaborn as sns\n",
    "from sklearn.linear_model import LogisticRegression"
   ]
  },
  {
   "cell_type": "markdown",
   "id": "6f0063ba",
   "metadata": {},
   "source": [
    "## 1. Chargement des jeux de données préparés\n",
    "\n",
    "Nous chargeons ici deux versions du jeu de données Vinho Verde :\n",
    "- `WineQT_normalized.csv` : données réelles, normalisées, avec la variable `quality_cat`.\n",
    "- `WineQT_SMOTE.csv` : version équilibrée via SMOTE pour la classification.\n",
    "\n",
    "Ces jeux sont le résultat du travail de préparation réalisé dans le premier notebook.\n"
   ]
  },
  {
   "cell_type": "code",
   "execution_count": 27,
   "id": "9a7de706",
   "metadata": {},
   "outputs": [],
   "source": [
    "# Chargement des données\n",
    "path_normalized: str = os.path.join(os.path.dirname(\n",
    "    os.getcwd()), \"data\", \"WineQT_normalized.csv\")\n",
    "path_smote: str = os.path.join(os.path.dirname(\n",
    "    os.getcwd()), \"data\", \"WineQT_SMOTE.csv\")\n",
    "\n",
    "data_normalized: DataFrame = pd.read_csv(path_normalized, index_col=\"Id\")\n",
    "data_smote: DataFrame = pd.read_csv(path_smote, index_col=\"Id\")"
   ]
  },
  {
   "cell_type": "markdown",
   "id": "47db0963",
   "metadata": {},
   "source": [
    "## 2. Rappel sur le problème de classification\n",
    "\n",
    "Notre objectif est de prédire la qualité d’un vin à partir de ses caractéristiques physico-chimiques.\n",
    "\n",
    "- La variable cible `quality` est à l'origine un entier entre 1 et 10 (uniquement les valeurs allant de 3 à 8 sont présentes dans notre jeu de données mais la description du dataset nous indique que la note est sur 10).\n",
    "- Elle a été regroupée en 3 classes ordinales :\n",
    "    - **faible** : notes 3 et 4\n",
    "    - **moyenne** : notes 5 et 6\n",
    "    - **bonne** : notes 7 et 8\n",
    "\n",
    "Ce problème peut donc être traité comme :\n",
    "- **Une classification multiclasse** \n",
    "- **Une classification ordinale** \n",
    "- **Une classification binaire** \n",
    "\n",
    "Dans ce notebook nous allons uniquement traiter ce problème comme **une classification multiclasse** (faible, moyenne, bonne)\n",
    "et nous utiliserons les labels **encodés** (0, 1, 2) à partir de `quality_cat`.\n"
   ]
  },
  {
   "cell_type": "markdown",
   "id": "7cfcde74",
   "metadata": {},
   "source": [
    "## 3. Séparation des données en ensembles d'entraînement et de test\n",
    "\n",
    "### a. Séparation des données\n",
    "\n",
    "Nous utilisons ici la version équilibrée `data_smote`, qui permet un apprentissage sans biais de classe.\n",
    "\n",
    "Étapes :\n",
    "- Séparation de la cible (`y`) et des variables explicatives (`X`)\n",
    "- Séparation `train/test` (80/20) avec stratification pour préserver l'équilibre entre classes\n",
    "- Encodage des labels avec `LabelEncoder` si besoin (déjà fait ici)\n"
   ]
  },
  {
   "cell_type": "code",
   "execution_count": 28,
   "id": "d5c4f4b2",
   "metadata": {},
   "outputs": [
    {
     "name": "stdout",
     "output_type": "stream",
     "text": [
      "X_train : (2020, 11), X_test : (506, 11)\n",
      "y_train : (2020,), y_test : (506,)\n"
     ]
    }
   ],
   "source": [
    "# Séparation des features et de la cible\n",
    "target_col: str = \"quality_encoded\"\n",
    "feature_cols: list[str] = [\n",
    "    col for col in data_smote.columns if col not in [\"quality_cat\", target_col]]\n",
    "\n",
    "X: DataFrame = data_smote[feature_cols]\n",
    "y: Series = data_smote[target_col]\n",
    "\n",
    "# Découpage en train/test (stratifié)\n",
    "X_train: DataFrame\n",
    "X_test: DataFrame\n",
    "y_train: Series\n",
    "y_test: Series\n",
    "\n",
    "X_train, X_test, y_train, y_test = train_test_split(\n",
    "    X, y,\n",
    "    test_size=0.2,\n",
    "    random_state=42,\n",
    "    stratify=y\n",
    ")\n",
    "\n",
    "# Vérification des dimensions\n",
    "print(f\"X_train : {X_train.shape}, X_test : {X_test.shape}\")\n",
    "print(f\"y_train : {y_train.shape}, y_test : {y_test.shape}\")"
   ]
  },
  {
   "cell_type": "markdown",
   "id": "151c916d",
   "metadata": {},
   "source": [
    "### b. Validation croisée \n",
    "\n",
    "Avant de tester nos modèles sur le jeu de test, nous utilisons la validation croisée pour évaluer leur performance **de façon plus robuste** sur les données d'entraînement.\n",
    "\n",
    "Nous utilisons ici une validation croisée en **5 plis** (`k=5`) :\n",
    "- L’ensemble `X_train` est divisé en 5 sous-ensembles (folds)\n",
    "- À chaque itération, 4 folds servent à l'entraînement, 1 fold à la validation\n",
    "- On calcule la **moyenne** des scores sur les 5 itérations\n",
    "\n",
    "Cela permet de limiter les biais liés à un découpage unique du dataset et de comparer plus rigoureusement les modèles.\n"
   ]
  },
  {
   "cell_type": "code",
   "execution_count": 29,
   "id": "77745a7e",
   "metadata": {},
   "outputs": [],
   "source": [
    "# Fonction pour évaluer un modèle de classification\n",
    "def evaluate_model_cv(\n",
    "    model: ClassifierMixin,\n",
    "    X: DataFrame,\n",
    "    y: Series,\n",
    "    scoring: Literal[\"f1_macro\", \"accuracy\",\n",
    "                     \"recall_macro\", \"precision_macro\"] = \"f1_macro\",\n",
    "    k: int = 5\n",
    ") -> np.ndarray:\n",
    "    \"\"\"\n",
    "    Effectue une validation croisée sur un modèle de classification.\n",
    "\n",
    "    Args:\n",
    "        model (ClassifierMixin): Le modèle à évaluer (doit implémenter .fit() et .predict()).\n",
    "        X (DataFrame): Variables explicatives.\n",
    "        y (Series): Variable cible.\n",
    "        scoring (str): Métrique d’évaluation (par défaut : \"f1_macro\").\n",
    "        k (int): Nombre de plis pour la validation croisée (par défaut : 5).\n",
    "\n",
    "    Returns:\n",
    "        np.ndarray: Liste des scores obtenus sur chaque fold.\n",
    "    \"\"\"\n",
    "    cv: StratifiedKFold = StratifiedKFold(\n",
    "        n_splits=k, shuffle=True, random_state=42)\n",
    "    scores: np.ndarray = cross_val_score(model, X, y, cv=cv, scoring=scoring)\n",
    "\n",
    "    print(f\"Scores ({scoring}) : {scores}\")\n",
    "    print(f\"Moyenne : {scores.mean():.4f}, Écart-type : {scores.std():.4f}\")\n",
    "\n",
    "    return scores"
   ]
  },
  {
   "cell_type": "code",
   "execution_count": 30,
   "id": "430ad7d9",
   "metadata": {},
   "outputs": [],
   "source": [
    "# Fonction pour afficher les scores de validation croisée\n",
    "def plot_cv_scores(\n",
    "    scores: np.ndarray,\n",
    "    model_name: str,\n",
    "    metric: Literal[\"f1_macro\", \"accuracy\",\n",
    "                    \"recall_macro\", \"precision_macro\"] = \"f1_macro\"\n",
    ") -> None:\n",
    "    \"\"\"\n",
    "    Affiche un graphique en barres des scores de validation croisée.\n",
    "\n",
    "    Args:\n",
    "        scores (np.ndarray): Liste des scores par fold.\n",
    "        model_name (str): Nom du modèle affiché dans le titre.\n",
    "        metric (str): Métrique utilisée (affichée sur l’axe Y).\n",
    "    \"\"\"\n",
    "    plt.figure(figsize=(8, 4))\n",
    "    sns.barplot(\n",
    "        x=list(range(1, len(scores) + 1)),\n",
    "        y=scores,\n",
    "        hue=scores,\n",
    "        palette=\"Set2\",\n",
    "        edgecolor=\"black\",\n",
    "        legend=False\n",
    "    )\n",
    "    plt.ylim(0, 1)\n",
    "    plt.title(f\"{model_name} – Scores {metric} par fold\")\n",
    "    plt.xlabel(\"Fold\")\n",
    "    plt.ylabel(f\"{metric}\")\n",
    "    plt.grid(True)\n",
    "    plt.tight_layout()\n",
    "    plt.show()"
   ]
  },
  {
   "cell_type": "code",
   "execution_count": 31,
   "id": "2074105e",
   "metadata": {},
   "outputs": [
    {
     "name": "stdout",
     "output_type": "stream",
     "text": [
      "Scores (f1_macro) : [0.69137186 0.69333974 0.73433696 0.69199414 0.72446965]\n",
      "Moyenne : 0.7071, Écart-type : 0.0185\n"
     ]
    },
    {
     "data": {
      "image/png": "[encoded data removed]",
      "text/plain": [
       "<Figure size 800x400 with 1 Axes>"
      ]
     },
     "metadata": {},
     "output_type": "display_data"
    }
   ],
   "source": [
    "# Modèle à évaluer\n",
    "logreg: LogisticRegression = LogisticRegression(\n",
    "    solver=\"lbfgs\", max_iter=1000, random_state=42\n",
    ")\n",
    "\n",
    "# Évaluation en validation croisée (F1_macro sur train set)\n",
    "scores_logreg: np.ndarray = evaluate_model_cv(\n",
    "    model=logreg,\n",
    "    X=X_train,\n",
    "    y=y_train,\n",
    "    scoring=\"f1_macro\",\n",
    "    k=5\n",
    ")\n",
    "\n",
    "# Affichage des scores\n",
    "plot_cv_scores(\n",
    "    scores=scores_logreg,\n",
    "    model_name=\"Logistic Regression\",\n",
    "    metric=\"F1 Macro\"\n",
    ")"
   ]
  },
  {
   "cell_type": "markdown",
   "id": "86fab3b5",
   "metadata": {},
   "source": [
    "#### Interprétation des résultats de la validation croisée\n",
    "\n",
    "Nous avons évalué la performance de la régression logistique multinomiale à l’aide d’une validation croisée stratifiée à 5 plis. Les scores obtenus pour la métrique `f1_macro` sont les suivants :\n",
    "\n",
    "- **Scores par fold** : [0.691, 0.693, 0.734, 0.692, 0.724]\n",
    "- **Moyenne** : **0.707**\n",
    "- **Écart-type** : **0.018**\n",
    "\n",
    "####  Analyse\n",
    "\n",
    "- Le **score moyen de 0.707** indique que le modèle a une **bonne capacité à prédire correctement les trois classes** (faible, moyenne, bonne), en tenant compte de l’équilibre entre elles.\n",
    "- L’**écart-type faible (0.018)** montre que le modèle est **stable** : ses performances ne varient pas fortement d’un pli à l’autre, ce qui est un signe de généralisation correcte.\n",
    "- Il reste possible de **l’améliorer** par une meilleure régularisation, un tuning d’hyperparamètres, ou des modèles non linéaires (comme les arbres ou le gradient boosting).\n",
    "\n",
    "Ces résultats servent de **référence de base** pour comparer les modèles plus complexes dans la suite du notebook.\n"
   ]
  }
 ],
 "metadata": {
  "kernelspec": {
   "display_name": "venv (3.13.3)",
   "language": "python",
   "name": "python3"
  },
  "language_info": {
   "codemirror_mode": {
    "name": "ipython",
    "version": 3
   },
   "file_extension": ".py",
   "mimetype": "text/x-python",
   "name": "python",
   "nbconvert_exporter": "python",
   "pygments_lexer": "ipython3",
   "version": "3.13.3"
  }
 },
 "nbformat": 4,
 "nbformat_minor": 5
}
