{
 "cells": [
  {
   "cell_type": "markdown",
   "id": "589ff866",
   "metadata": {},
   "source": [
    "# 2 - Analyse Exploratoire des données\n",
    " "
   ]
  }
 ],
 "metadata": {
  "language_info": {
   "name": "python"
  }
 },
 "nbformat": 4,
 "nbformat_minor": 5
}
