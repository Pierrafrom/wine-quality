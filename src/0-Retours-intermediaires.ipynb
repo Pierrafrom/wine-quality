{
 "cells": [
  {
   "cell_type": "markdown",
   "id": "448e7961",
   "metadata": {},
   "source": [
    "# 2 - Retours intermédiaires par le prof\n",
    "\n",
    "🎯 **Résumé** : On doit savoir \"quelle histoire\" on veut raconter le jour de la soutenance. Le jeu de données qu'on a choisi est assez classique. Le coeur de notre travail se trouve bien sur l'explication/la prédiction de la variable qualité. Les méthodes supervisées peuvent constituer une grosse partie du travail sur le dataset.  \n",
    "Le prof nous a sensibilisé à la différence entre une problème de classification et régression. On peut appliquer les deux méthodes et comparer les résultats obtenus.\n",
    "\n",
    "---\n",
    "### 👨🏻‍🏫👩🏻‍🏫👨🏻‍🏫 Histoire pour la soutenance\n",
    "**TOUJOURS d'après ce jeu de données, c'est-à-dire des vins rouges portuguais *Vinho Verde* testés par un groupe de trois évaluateurs de l'organisme CRVV (données issues de l'étude Cortez et al.).**\n",
    "- **Comment les propriétés chimiques d'un vin influencent sa qualité perçue ?** : expliquer  \n",
    "    - **Quelles seraient les propriétés chimiques d'un vin excellent ?** : expliquer\n",
    "- **Comment prédire au mieux la qualité d'un vin à partir de ses propriétés chimiques ?** : expliquer  \n",
    "    - **Comment classer un vin dans les catégories \"mauvais vin\" ou \"bon vin\" ?** : problème de classification\n",
    "    - **Comment atteindre une valeur numérique assez proche de la qualité d'un vin ?** : problème de régression (avec calcul de probabilités)\n",
    "\n",
    "### 🧠 À réfléchir\n",
    "- Dans la littérature (ou la communauté scientifique), c'est plus la régression qui est utilisée (communauté scientifique, Cortal? Pour des scores de qualité sur de la nourriture ? Ici le vin mais sinon la viande?)  \n",
    "- La variable qualité est une variable quantitative discrète que l'on peut transformer en variable qualitative ordinale. En choisissant deux classes (le prof a confirmé), on peut faire de la **régression logistique**.  \n",
    "- Distinction entre classification et régression : la première rend des résultats sous forme de regroupement (classes) alors que la seconde rend des résultats numériques continus. Ce qui implique qu'il n'y a pas vraiment de notion d'ordre en classification contrairement à la régression qui la prend en compte.\n",
    "- Application de la régression logistique (classification) : mettre un vin dans l'une des deux catégories \"mauvais\" ou \"bon\" (il y a deux groupes, on perd de l'information sur le score de qualité) et on calcule une probabilité d'appartenir à une des deux classes.  \n",
    "- Application d'une autre méthode (les arbres ? ou la régression logistique multiple ?) : garder les notes de qualités (ou les transposer dans l'intervalle [0, 1])\n",
    "\n",
    "\n",
    "### 📚 À documenter/faire\n",
    "- Régression à approfondir : histoire de probabilités (transformer nos notes en valeurs comprises entre 0 et 1, ex : une qualité de 6 sera utilisé sous la forme 0.6)\n",
    "\n",
    "---"
   ]
  },
  {
   "cell_type": "markdown",
   "id": "eb4f9625",
   "metadata": {},
   "source": []
  }
 ],
 "metadata": {
  "language_info": {
   "name": "python"
  }
 },
 "nbformat": 4,
 "nbformat_minor": 5
}
