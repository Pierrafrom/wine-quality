{
 "cells": [
  {
   "cell_type": "markdown",
   "id": "589ff866",
   "metadata": {},
   "source": [
    "# 2 - Analyse Exploratoire des données\n",
    "\n",
    "## TODO\n",
    "\n",
    "> Objectif : compléter l’exploration des données du dataset **Vinho Verde** sans dupliquer les étapes déjà réalisées (nettoyage, normalisation, PCA, regroupement de `quality`, SMOTE).\n",
    "\n",
    "---\n",
    "\n",
    "## Déjà fait\n",
    "- [x] Chargement et aperçu des données\n",
    "- [x] Nettoyage (valeurs manquantes, doublons)\n",
    "- [x] Normalisation des variables quantitatives\n",
    "- [x] Regroupement de la variable `quality` en 3 classes\n",
    "- [x] Application de SMOTE\n",
    "- [x] PCA avant et après SMOTE\n",
    "- [x] Sauvegarde des fichiers `vinho_normalized.csv` et `vinho_smote.csv`\n",
    "\n",
    "---\n",
    "\n",
    "## 📌 À faire – EDA à approfondir\n",
    "\n",
    "### Analyse bivariée\n",
    "- [ ] Matrice de corrélation (`data.corr()`) + heatmap (`sns.heatmap`)\n",
    "- [ ] Scatterplots entre variables fortement corrélées\n",
    "- [ ] Boxplots ou violin plots des features par `quality_cat`\n",
    "- [ ] Analyse des variables par rapport à `quality` (moyennes, variations)\n",
    "\n",
    "### Analyse multivariée\n",
    "- [ ] PCA avec interprétation des composantes\n",
    "- [ ] Cercle des corrélations (si possible)\n",
    "- [ ] Clustering exploratoire (K-means ou CAH sur données normalisées)\n",
    "\n",
    "### Focus sur la cible (`quality`)\n",
    "- [ ] Étude plus fine de la distribution (`sns.histplot`, skewness, etc.)\n",
    "- [ ] Comparaison des moyennes par catégorie (`groupby(\"quality_cat\")`)\n",
    "- [ ] Test de différentes stratégies de regroupement de `quality` (optionnel)\n",
    "\n",
    "---\n",
    "\n",
    "## Recommandations\n",
    "- Éviter de refaire les visualisations déjà présentes dans le notebook 1.\n",
    "- Privilégier des représentations qui permettent d’expliquer la structure ou l’importance des variables.\n",
    "\n"
   ]
  }
 ],
 "metadata": {
  "language_info": {
   "name": "python"
  }
 },
 "nbformat": 4,
 "nbformat_minor": 5
}
